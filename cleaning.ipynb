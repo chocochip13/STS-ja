{
 "cells": [
  {
   "cell_type": "markdown",
   "source": [
    "### Loading Libraries"
   ],
   "metadata": {
    "collapsed": false,
    "pycharm": {
     "name": "#%% md\n"
    }
   }
  },
  {
   "cell_type": "code",
   "execution_count": 1,
   "metadata": {
    "collapsed": true
   },
   "outputs": [
    {
     "name": "stderr",
     "output_type": "stream",
     "text": [
      "/Users/kapeleshh/.conda/envs/STS/lib/python3.7/site-packages/ipykernel_launcher.py:6: TqdmDeprecationWarning: This function will be removed in tqdm==5.0.0\n",
      "Please use `tqdm.notebook.*` instead of `tqdm._tqdm_notebook.*`\n",
      "  \n"
     ]
    }
   ],
   "source": [
    "import pandas as pd\n",
    "import numpy as np\n",
    "import re\n",
    "from tqdm._tqdm_notebook import tqdm_notebook as tqdm\n",
    "tqdm.pandas()"
   ]
  },
  {
   "cell_type": "markdown",
   "source": [
    "### Load Data"
   ],
   "metadata": {
    "collapsed": false,
    "pycharm": {
     "name": "#%% md\n"
    }
   }
  },
  {
   "cell_type": "code",
   "execution_count": 2,
   "outputs": [],
   "source": [
    "filepath = \"/Users/kapeleshh/PycharmProjects/STS/\"\n",
    "df =  pd.read_csv(filepath + \"data/full_train.csv\")"
   ],
   "metadata": {
    "collapsed": false,
    "pycharm": {
     "name": "#%%\n"
    }
   }
  },
  {
   "cell_type": "code",
   "execution_count": 3,
   "outputs": [
    {
     "data": {
      "text/plain": "   2                                        ^^  \\\n0  1                                             \n1  1                                  !!!まいった！   \n2  3  ////////////////////////////////////////   \n3  1                         ...こういうのって、こんなもの？   \n4  1                                   .。。。。。。   \n\n             いいです＾＾＾＾＾＾＾＾＾＾＾＾＾＾＾＾＾＾＾＾＾＾＾＾＾＾＾＾＾＾＾  \n0              ｂｂｂｂｂｂｂｂｂｂｂｂｂｂｂｂｂｂｂｂｂｂｂｂｂｂｂｂｂｂｂｂｋ  \n1                      そうりょうむりょうじゃないーーーーーー！やられた！  \n2  ｐｐｐ・・・・・・・・・・・・・/////////////////////////////  \n3              つぼみがついてましたが、ちいさくてくさってました。もうかいません。  \n4                       。。。。。。／。。。。。。。。。。。。。。。。。  ",
      "text/html": "<div>\n<style scoped>\n    .dataframe tbody tr th:only-of-type {\n        vertical-align: middle;\n    }\n\n    .dataframe tbody tr th {\n        vertical-align: top;\n    }\n\n    .dataframe thead th {\n        text-align: right;\n    }\n</style>\n<table border=\"1\" class=\"dataframe\">\n  <thead>\n    <tr style=\"text-align: right;\">\n      <th></th>\n      <th>2</th>\n      <th>^^</th>\n      <th>いいです＾＾＾＾＾＾＾＾＾＾＾＾＾＾＾＾＾＾＾＾＾＾＾＾＾＾＾＾＾＾＾</th>\n    </tr>\n  </thead>\n  <tbody>\n    <tr>\n      <th>0</th>\n      <td>1</td>\n      <td></td>\n      <td>ｂｂｂｂｂｂｂｂｂｂｂｂｂｂｂｂｂｂｂｂｂｂｂｂｂｂｂｂｂｂｂｂｋ</td>\n    </tr>\n    <tr>\n      <th>1</th>\n      <td>1</td>\n      <td>!!!まいった！</td>\n      <td>そうりょうむりょうじゃないーーーーーー！やられた！</td>\n    </tr>\n    <tr>\n      <th>2</th>\n      <td>3</td>\n      <td>////////////////////////////////////////</td>\n      <td>ｐｐｐ・・・・・・・・・・・・・/////////////////////////////</td>\n    </tr>\n    <tr>\n      <th>3</th>\n      <td>1</td>\n      <td>...こういうのって、こんなもの？</td>\n      <td>つぼみがついてましたが、ちいさくてくさってました。もうかいません。</td>\n    </tr>\n    <tr>\n      <th>4</th>\n      <td>1</td>\n      <td>.。。。。。。</td>\n      <td>。。。。。。／。。。。。。。。。。。。。。。。。</td>\n    </tr>\n  </tbody>\n</table>\n</div>"
     },
     "execution_count": 3,
     "metadata": {},
     "output_type": "execute_result"
    }
   ],
   "source": [
    "df.head()"
   ],
   "metadata": {
    "collapsed": false,
    "pycharm": {
     "name": "#%%\n"
    }
   }
  },
  {
   "cell_type": "code",
   "execution_count": 4,
   "outputs": [
    {
     "data": {
      "text/plain": "(3999999, 3)"
     },
     "execution_count": 4,
     "metadata": {},
     "output_type": "execute_result"
    }
   ],
   "source": [
    "df.shape\n"
   ],
   "metadata": {
    "collapsed": false,
    "pycharm": {
     "name": "#%%\n"
    }
   }
  },
  {
   "cell_type": "code",
   "execution_count": 5,
   "outputs": [],
   "source": [
    "corpus = df.drop(df.columns[[0, 1]], axis=1)"
   ],
   "metadata": {
    "collapsed": false,
    "pycharm": {
     "name": "#%%\n"
    }
   }
  },
  {
   "cell_type": "code",
   "execution_count": 6,
   "outputs": [],
   "source": [
    "corpus.columns = ['text']"
   ],
   "metadata": {
    "collapsed": false,
    "pycharm": {
     "name": "#%%\n"
    }
   }
  },
  {
   "cell_type": "code",
   "execution_count": 7,
   "outputs": [
    {
     "data": {
      "text/plain": "                                                text\n0                  ｂｂｂｂｂｂｂｂｂｂｂｂｂｂｂｂｂｂｂｂｂｂｂｂｂｂｂｂｂｂｂｂｋ\n1                          そうりょうむりょうじゃないーーーーーー！やられた！\n2      ｐｐｐ・・・・・・・・・・・・・/////////////////////////////\n3                  つぼみがついてましたが、ちいさくてくさってました。もうかいません。\n4                           。。。。。。／。。。。。。。。。。。。。。。。。\n5  ???????????????????????？？？？？？？？？？？？？？？？？？？？？？？...\n6  (*´∇｀*)(*´∇｀*)(*´∇｀*)(*´∇｀*)(*´∇｀*)(*´∇｀*)(*´∇...\n7                   ♪───Ｏ（≧∇≦）Ｏ────♪♪───Ｏ（≧∇≦）Ｏ────♪\n8   ♪ヽ(´▽｀)/♪ヽ(´▽｀)/♪ヽ(´▽｀)/♪ヽ(´▽｀)/♪ヽ(´▽｀)/♪ヽ(´▽｀)/\n9         ｃａｎ ｙｏｕ ｔｅｌｌ ｍｅ ｈｏｗ ｔｏ ｆｉｌｌ ｏｕｔ ｔｈｉｓ ｆｏｒｍ？",
      "text/html": "<div>\n<style scoped>\n    .dataframe tbody tr th:only-of-type {\n        vertical-align: middle;\n    }\n\n    .dataframe tbody tr th {\n        vertical-align: top;\n    }\n\n    .dataframe thead th {\n        text-align: right;\n    }\n</style>\n<table border=\"1\" class=\"dataframe\">\n  <thead>\n    <tr style=\"text-align: right;\">\n      <th></th>\n      <th>text</th>\n    </tr>\n  </thead>\n  <tbody>\n    <tr>\n      <th>0</th>\n      <td>ｂｂｂｂｂｂｂｂｂｂｂｂｂｂｂｂｂｂｂｂｂｂｂｂｂｂｂｂｂｂｂｂｋ</td>\n    </tr>\n    <tr>\n      <th>1</th>\n      <td>そうりょうむりょうじゃないーーーーーー！やられた！</td>\n    </tr>\n    <tr>\n      <th>2</th>\n      <td>ｐｐｐ・・・・・・・・・・・・・/////////////////////////////</td>\n    </tr>\n    <tr>\n      <th>3</th>\n      <td>つぼみがついてましたが、ちいさくてくさってました。もうかいません。</td>\n    </tr>\n    <tr>\n      <th>4</th>\n      <td>。。。。。。／。。。。。。。。。。。。。。。。。</td>\n    </tr>\n    <tr>\n      <th>5</th>\n      <td>???????????????????????？？？？？？？？？？？？？？？？？？？？？？？...</td>\n    </tr>\n    <tr>\n      <th>6</th>\n      <td>(*´∇｀*)(*´∇｀*)(*´∇｀*)(*´∇｀*)(*´∇｀*)(*´∇｀*)(*´∇...</td>\n    </tr>\n    <tr>\n      <th>7</th>\n      <td>♪───Ｏ（≧∇≦）Ｏ────♪♪───Ｏ（≧∇≦）Ｏ────♪</td>\n    </tr>\n    <tr>\n      <th>8</th>\n      <td>♪ヽ(´▽｀)/♪ヽ(´▽｀)/♪ヽ(´▽｀)/♪ヽ(´▽｀)/♪ヽ(´▽｀)/♪ヽ(´▽｀)/</td>\n    </tr>\n    <tr>\n      <th>9</th>\n      <td>ｃａｎ ｙｏｕ ｔｅｌｌ ｍｅ ｈｏｗ ｔｏ ｆｉｌｌ ｏｕｔ ｔｈｉｓ ｆｏｒｍ？</td>\n    </tr>\n  </tbody>\n</table>\n</div>"
     },
     "execution_count": 7,
     "metadata": {},
     "output_type": "execute_result"
    }
   ],
   "source": [
    "corpus.head(10)"
   ],
   "metadata": {
    "collapsed": false,
    "pycharm": {
     "name": "#%%\n"
    }
   }
  },
  {
   "cell_type": "code",
   "execution_count": 8,
   "outputs": [],
   "source": [
    "puncts = [',', '.', '`','\"', ':', ')', '。','(','ー','・', '-','／', '!', '?', '|', ';', \"'\", '$', '&', '/', '[', ']', '>', '%', '=', '#', '*', '+', '\\\\', '•',  '~', '@', '£',\n",
    " '·', '_', '{', '}', '©', '^', '®', '`',  '<', '→', '°', '€', '™', '›',  '♥', '←', '×', '§', '″', '′', 'Â', '█', '½', 'à', '…', '\\n', '\\xa0', '\\t',\n",
    " '“', '★', '”', '–', '●', 'â', '►', '−', '¢', '²', '¬', '░', '¶', '↑', '±', '¿', '▾', '═', '¦', '║', '―', '¥', '▓', '—', '‹', '─', '\\u3000', '\\u202f',\n",
    " '▒', '：', '¼', '⊕', '▼', '▪', '†', '■', '’', '▀', '¨', '▄', '♫', '☆', 'é', '¯', '♦', '¤', '▲', 'è', '¸', '¾', 'Ã', '⋅', '‘', '∞', '«',\n",
    " '∙', '）', '↓', '、', '│', '（', '»', '，', '♪', '╩', '╚', '³', '・', '╦', '╣', '╔', '╗', '▬', '❤', 'ï', 'Ø', '¹', '≤', '‡', '√', ]\n",
    "\n",
    "\n",
    "html_tags = ['<p>', '</p>', '<table>', '</table>', '<tr>', '</tr>', '<ul>', '<ol>', '<dl>', '</ul>', '</ol>',\n",
    "             '</dl>', '<li>', '<dd>', '<dt>', '</li>', '</dd>', '</dt>', '<h1>', '</h1>',\n",
    "             '<br>', '<br/>', '<strong>', '</strong>', '<span>', '</span>', '<blockquote>', '</blockquote>',\n",
    "             '<pre>', '</pre>', '<div>', '</div>', '<h2>', '</h2>', '<h3>', '</h3>', '<h4>', '</h4>', '<h5>', '</h5>',\n",
    "             '<h6>', '</h6>', '<blck>', '<pr>', '<code>', '<th>', '</th>', '<td>', '</td>', '<em>', '</em>']\n",
    "\n",
    "empty_expressions = ['&lt;', '&gt;', '&amp;', '&nbsp;',\n",
    "                     '&emsp;', '&ndash;', '&mdash;', '&ensp;'\n",
    "                     '&quot;', '&#39;']\n",
    "\n",
    "other = ['span', 'style', 'href', 'input']\n",
    "\n",
    "dict = {\n",
    "        '０' : '0', '１' : '1', '２' : '2', '３' : '3', '４' : '4',\n",
    "        '５' : '5', '６' : '6', '７' : '7', '８' : '8', '９' : '9',\n",
    "        'Ａ' : 'A', 'Ｂ' : 'B', 'Ｃ' : 'C', 'Ｄ' : 'D', 'Ｅ' : 'E',\n",
    "        'Ｆ' : 'F', 'Ｇ' : 'G', 'Ｈ' : 'H', 'Ｉ' : 'I', 'Ｊ' : 'J',\n",
    "        'Ｋ' : 'K', 'Ｌ' : 'L', 'Ｍ' : 'M', 'Ｎ' : 'N', 'Ｏ' : 'O',\n",
    "        'Ｐ' : 'P', 'Ｑ' : 'Q', 'Ｒ' : 'R', 'Ｓ' : 'S', 'Ｔ' : 'T',\n",
    "        'Ｕ' : 'U', 'Ｖ' : 'V', 'Ｗ' : 'W', 'Ｘ' : 'X', 'Ｙ' : 'Y',\n",
    "        'Ｚ' : 'Z', 'ａ' : 'a', 'ｂ' : 'b', 'ｃ' : 'c', 'ｄ' : 'd',\n",
    "        'ｅ' : 'e', 'ｆ' : 'f', 'ｇ' : 'g', 'ｈ' : 'h', 'ｉ' : 'i',\n",
    "        'ｊ' : 'j', 'ｋ' : 'k', 'ｌ' : 'l', 'ｍ' : 'm', 'ｎ' : 'n',\n",
    "        'ｏ' : 'o', 'ｐ' : 'p', 'ｑ' : 'q', 'ｒ' : 'r', 'ｓ' : 's',\n",
    "        'ｔ' : 't', 'ｕ' : 'u', 'ｖ' : 'v', 'ｗ' : 'w', 'ｘ' : 'x',\n",
    "        'ｙ' : 'y', 'ｚ' : 'z', '－' : '-', '、' : ', ', '　' : ' ',\n",
    "         '／' : '/','？' : '?', '｀' : '`'}\n",
    "\n",
    "\n",
    "def pre_preprocess(x):\n",
    "    return str(x).lower()\n",
    "\n",
    "def rm_spaces(text):\n",
    "    spaces = ['\\u200b', '\\u200e', '\\u202a', '\\u2009', '\\u2028', '\\u202c', '\\ufeff', '\\uf0d8', '\\u2061', '\\u3000', '\\x10', '\\x7f', '\\x9d', '\\xad',\n",
    "              '\\x97', '\\x9c', '\\x8b', '\\x81', '\\x80', '\\x8c', '\\x85', '\\x92', '\\x88', '\\x8d', '\\x80', '\\x8e', '\\x9a', '\\x94', '\\xa0',\n",
    "              '\\x8f', '\\x82', '\\x8a', '\\x93', '\\x90', '\\x83', '\\x96', '\\x9b', '\\x9e', '\\x99', '\\x87', '\\x84', '\\x9f',\n",
    "             ]\n",
    "    for space in spaces:\n",
    "            text = text.replace(space, ' ')\n",
    "    return text\n",
    "\n",
    "def remove_urls(x):\n",
    "    x = re.sub(r'(https?://[a-zA-Z0-9.-]*)', r'', x)\n",
    "\n",
    "    # original\n",
    "    x = re.sub(r'(quote=\\w+\\s?\\w+;?\\w+)', r'', x)\n",
    "    return x\n",
    "\n",
    "def clean_html_tags(x, stop_words=[]):\n",
    "    for r in html_tags:\n",
    "        x = x.replace(r, '')\n",
    "    for r in empty_expressions:\n",
    "        x = x.replace(r, ' ')\n",
    "    for r in stop_words:\n",
    "        x = x.replace(r, '')\n",
    "    return x\n",
    "\n",
    "def replace_num(text):\n",
    "    text = re.sub('[0-9]{5,}', '', text)\n",
    "    text = re.sub('[0-9]{4}', '', text)\n",
    "    text = re.sub('[0-9]{3}', '', text)\n",
    "    text = re.sub('[0-9]{2}', '', text)\n",
    "    return text\n",
    "\n",
    "def get_url_num(x):\n",
    "    pattern = \"https?://[\\w/:%#\\$&\\?\\(\\)~\\.=\\+\\-]+\"\n",
    "    urls = re.findall(pattern, x)\n",
    "    return len(urls)\n",
    "\n",
    "\n",
    "def clean_puncts(x):\n",
    "    for punct in puncts:\n",
    "        x = x.replace(punct, f' {punct} ')\n",
    "    return x\n",
    "\n",
    "#zenkaku = '０,１,２,３,４,５,６,７,８,９,（,）,＊,「,」,［,］,【,】,＜,＞,？,・,＃,＠,＄,％,＝'.split(',')\n",
    "#hankaku = '0,1,2,3,4,5,6,7,8,9,q,a,z,w,s,x,c,d,e,r,f,v,b,g,t,y,h,n,m,j,u,i,k,l,o,p'.split(',')\n",
    "\n",
    "def clean_text_jp(dict, x):\n",
    "    x = x.replace('。', '')\n",
    "    x = x.replace('・', '')\n",
    "    x = x.replace('ー', '')\n",
    "    x = x.replace('／', '')\n",
    "    x = x.replace('！', '')\n",
    "    x = x.replace('、', '')\n",
    "    x = x.replace('’','')\n",
    "    x = x.replace('\\n', '') # 改行削除\n",
    "    x = x.replace('\\t', '') # タブ削除\n",
    "    x = x.replace('\\r', '')\n",
    "    m = re.compile(\"(%s)\" % \"|\".join(map(re.escape, dict.keys())))\n",
    "    x = m.sub(lambda mo: dict[mo.string[mo.start():mo.end()]], x)\n",
    "    x = re.sub(re.compile(r'[!-\\/:-@[-`{-~]'), ' ', x)\n",
    "    x = re.sub(r'\\[math\\]', ' LaTex math ', x) # LaTex削除\n",
    "    x = re.sub(r'\\[\\/math\\]', ' LaTex math ', x) # LaTex削除\n",
    "    x = re.sub(r'\\\\', ' LaTex ', x) # LaTex削除\n",
    "    #for r in zenkaku+hankaku:\n",
    "     #   x = x.replace(str(r), '')\n",
    "    x = re.sub(' +', ' ', x)\n",
    "    return x\n",
    "\n",
    "def clean_empty(x):\n",
    "    x = x.replace(r'^\\s*$', np.nan, regex=True)\n",
    "    x = x.dropna()\n",
    "    return x\n",
    "\n",
    "\n",
    "def preprocess(data):\n",
    "    data = data.progress_apply(lambda x: pre_preprocess(x))\n",
    "    data = data.progress_apply(lambda x: rm_spaces(x))\n",
    "    data = data.progress_apply(lambda x: remove_urls(x))\n",
    "    data = data.progress_apply(lambda x: replace_num(x))\n",
    "    data = data.progress_apply(lambda x: clean_html_tags(x, stop_words=other))\n",
    "    data = data.progress_apply(lambda x: clean_text_jp(dict,x))\n",
    "    data = data.progress_apply(lambda x: clean_puncts(x))\n",
    "    data = clean_empty(data)\n",
    "    return data"
   ],
   "metadata": {
    "collapsed": false,
    "pycharm": {
     "name": "#%%\n"
    }
   }
  },
  {
   "cell_type": "code",
   "execution_count": 9,
   "outputs": [
    {
     "data": {
      "text/plain": "  0%|          | 0/3999999 [00:00<?, ?it/s]",
      "application/vnd.jupyter.widget-view+json": {
       "version_major": 2,
       "version_minor": 0,
       "model_id": "260e6410736946a0b7a8cd0ffed92b02"
      }
     },
     "metadata": {},
     "output_type": "display_data"
    },
    {
     "data": {
      "text/plain": "  0%|          | 0/3999999 [00:00<?, ?it/s]",
      "application/vnd.jupyter.widget-view+json": {
       "version_major": 2,
       "version_minor": 0,
       "model_id": "3e75126bd0ba4e859efb88b4190a3b58"
      }
     },
     "metadata": {},
     "output_type": "display_data"
    },
    {
     "data": {
      "text/plain": "  0%|          | 0/3999999 [00:00<?, ?it/s]",
      "application/vnd.jupyter.widget-view+json": {
       "version_major": 2,
       "version_minor": 0,
       "model_id": "885b1a2438ee4e50b2e80cfb1f5ec797"
      }
     },
     "metadata": {},
     "output_type": "display_data"
    },
    {
     "data": {
      "text/plain": "  0%|          | 0/3999999 [00:00<?, ?it/s]",
      "application/vnd.jupyter.widget-view+json": {
       "version_major": 2,
       "version_minor": 0,
       "model_id": "205f6207cd644294950390c614b79a45"
      }
     },
     "metadata": {},
     "output_type": "display_data"
    },
    {
     "data": {
      "text/plain": "  0%|          | 0/3999999 [00:00<?, ?it/s]",
      "application/vnd.jupyter.widget-view+json": {
       "version_major": 2,
       "version_minor": 0,
       "model_id": "40f4bea52f824e16ac0d2ff7b05201eb"
      }
     },
     "metadata": {},
     "output_type": "display_data"
    },
    {
     "data": {
      "text/plain": "  0%|          | 0/3999999 [00:00<?, ?it/s]",
      "application/vnd.jupyter.widget-view+json": {
       "version_major": 2,
       "version_minor": 0,
       "model_id": "d9d4a55ec7ac412f982e82c8603e3b07"
      }
     },
     "metadata": {},
     "output_type": "display_data"
    },
    {
     "data": {
      "text/plain": "  0%|          | 0/3999999 [00:00<?, ?it/s]",
      "application/vnd.jupyter.widget-view+json": {
       "version_major": 2,
       "version_minor": 0,
       "model_id": "f3851f2ec658430c82cbd2db8bac438a"
      }
     },
     "metadata": {},
     "output_type": "display_data"
    }
   ],
   "source": [
    "corpus['text'] = preprocess(corpus['text'])"
   ],
   "metadata": {
    "collapsed": false,
    "pycharm": {
     "name": "#%%\n"
    }
   }
  },
  {
   "cell_type": "code",
   "execution_count": 10,
   "outputs": [],
   "source": [
    "corpus = corpus.dropna()"
   ],
   "metadata": {
    "collapsed": false,
    "pycharm": {
     "name": "#%%\n"
    }
   }
  },
  {
   "cell_type": "markdown",
   "source": [
    "### Write Data into CSV"
   ],
   "metadata": {
    "collapsed": false,
    "pycharm": {
     "name": "#%% md\n"
    }
   }
  },
  {
   "cell_type": "code",
   "execution_count": 11,
   "outputs": [],
   "source": [
    "corpus.to_csv(filepath + 'data/preproc_train.csv', mode = 'w', index=False)\n",
    "\n"
   ],
   "metadata": {
    "collapsed": false,
    "pycharm": {
     "name": "#%%\n"
    }
   }
  }
 ],
 "metadata": {
  "kernelspec": {
   "display_name": "Python 3",
   "language": "python",
   "name": "python3"
  },
  "language_info": {
   "codemirror_mode": {
    "name": "ipython",
    "version": 2
   },
   "file_extension": ".py",
   "mimetype": "text/x-python",
   "name": "python",
   "nbconvert_exporter": "python",
   "pygments_lexer": "ipython2",
   "version": "2.7.6"
  }
 },
 "nbformat": 4,
 "nbformat_minor": 0
}