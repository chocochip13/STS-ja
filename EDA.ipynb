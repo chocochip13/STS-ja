{
 "nbformat": 4,
 "nbformat_minor": 0,
 "metadata": {
  "colab": {
   "name": "EDA.ipynb",
   "provenance": [],
   "collapsed_sections": []
  },
  "kernelspec": {
   "name": "python3",
   "language": "python",
   "display_name": "Python 3"
  }
 },
 "cells": [
  {
   "cell_type": "markdown",
   "metadata": {
    "id": "Jh54leO7xHJi"
   },
   "source": [
    "## Loading Libraries"
   ]
  },
  {
   "cell_type": "code",
   "metadata": {
    "id": "db4FhCLbZusn"
   },
   "source": [
    "import pandas as pd\n",
    "import numpy as np\n",
    "from itertools import chain\n",
    "from collections import Counter"
   ],
   "execution_count": 1,
   "outputs": []
  },
  {
   "cell_type": "markdown",
   "metadata": {
    "id": "G8RoGEvHxLua"
   },
   "source": [
    "## Set Seed"
   ]
  },
  {
   "cell_type": "code",
   "metadata": {
    "id": "tDyZfj2VlkAR"
   },
   "source": [
    "SEED = 13\n",
    "np.random.seed(SEED)"
   ],
   "execution_count": 2,
   "outputs": []
  },
  {
   "cell_type": "markdown",
   "metadata": {
    "id": "2WfOkkqWxOgC"
   },
   "source": [
    "## Load Dataset"
   ]
  },
  {
   "cell_type": "code",
   "metadata": {
    "id": "1YIYL_C52nbI"
   },
   "source": [
    "filepath = \"/content/drive/MyDrive/Macnica/Projects/STS/\"\n",
    "df=  pd.read_pickle(filepath + \"data/pickle/token_compare+sudachi(full)\")\n"
   ],
   "execution_count": 3,
   "outputs": []
  },
  {
   "cell_type": "code",
   "metadata": {
    "id": "dsB5P4dTY7wU"
   },
   "source": [
    "df = df.dropna()"
   ],
   "execution_count": 4,
   "outputs": []
  },
  {
   "cell_type": "code",
   "metadata": {
    "colab": {
     "base_uri": "https://localhost:8080/",
     "height": 292
    },
    "id": "nA_zJGfwMvxD",
    "outputId": "5949b90e-cb8f-47f3-8599-3c50f88a34b2"
   },
   "source": [
    "df.head()"
   ],
   "execution_count": 5,
   "outputs": [
    {
     "output_type": "execute_result",
     "data": {
      "text/html": [
       "<div>\n",
       "<style scoped>\n",
       "    .dataframe tbody tr th:only-of-type {\n",
       "        vertical-align: middle;\n",
       "    }\n",
       "\n",
       "    .dataframe tbody tr th {\n",
       "        vertical-align: top;\n",
       "    }\n",
       "\n",
       "    .dataframe thead th {\n",
       "        text-align: right;\n",
       "    }\n",
       "</style>\n",
       "<table border=\"1\" class=\"dataframe\">\n",
       "  <thead>\n",
       "    <tr style=\"text-align: right;\">\n",
       "      <th></th>\n",
       "      <th>text</th>\n",
       "      <th>tokmecab</th>\n",
       "      <th>tokjanome</th>\n",
       "      <th>toknagisa</th>\n",
       "      <th>toksudachi</th>\n",
       "    </tr>\n",
       "  </thead>\n",
       "  <tbody>\n",
       "    <tr>\n",
       "      <th>0</th>\n",
       "      <td>bbbbbbbbbbbbbbbbbbbbbbbbbbbbbbbbk</td>\n",
       "      <td>[b, b, b, b, b, b, b, b, bbbbbbbbbbbbbbbbbbbbb...</td>\n",
       "      <td>[bbbbbbbbbbbbbbbbbbbbbbbbbbbbbbbbk]</td>\n",
       "      <td>[bbbbbbbbbbbbbbbbbbbbbbbbbbbbbbbbk]</td>\n",
       "      <td>[bbbbbbbbbbbbbbbbbbbbbbbbbbbbbbbbk]</td>\n",
       "    </tr>\n",
       "    <tr>\n",
       "      <th>1</th>\n",
       "      <td>そうりょうむりょうじゃないやられた</td>\n",
       "      <td>[ょうむりょうじゃないやられた]</td>\n",
       "      <td>[ょうむりょうじゃないやられた]</td>\n",
       "      <td>[りょう, むりょう, やら]</td>\n",
       "      <td>[りょう, むりょう]</td>\n",
       "    </tr>\n",
       "    <tr>\n",
       "      <th>2</th>\n",
       "      <td>ppp</td>\n",
       "      <td>[ppp]</td>\n",
       "      <td>[ppp]</td>\n",
       "      <td>[ppp]</td>\n",
       "      <td>[ppp]</td>\n",
       "    </tr>\n",
       "    <tr>\n",
       "      <th>3</th>\n",
       "      <td>つぼみがついてましたがちいさくてくさってましたもうかいません</td>\n",
       "      <td>[つぼみ, ついて, ちいさく, くさっ, うか, ませ]</td>\n",
       "      <td>[つぼみ, ついて, ちいさく, くさっ, うか, ませ]</td>\n",
       "      <td>[つぼみ, つい, ちいさく, くさっ, もう, ませ]</td>\n",
       "      <td>[つぼみ, つい, ちいさく, くさっ, もう, かい, ませ]</td>\n",
       "    </tr>\n",
       "    <tr>\n",
       "      <th>5</th>\n",
       "      <td>♪  ─  ─  ─ o （ ≧∇≦ ） o ─  ─  ─  ─  ♪  ♪  ─  ─...</td>\n",
       "      <td>[o, o, o, o]</td>\n",
       "      <td>[o, o, o, o]</td>\n",
       "      <td>[o, o, o, o]</td>\n",
       "      <td>[o, o]</td>\n",
       "    </tr>\n",
       "  </tbody>\n",
       "</table>\n",
       "</div>"
      ],
      "text/plain": [
       "                                                text  ...                           toksudachi\n",
       "0                  bbbbbbbbbbbbbbbbbbbbbbbbbbbbbbbbk  ...  [bbbbbbbbbbbbbbbbbbbbbbbbbbbbbbbbk]\n",
       "1                                  そうりょうむりょうじゃないやられた  ...                          [りょう, むりょう]\n",
       "2                                               ppp   ...                                [ppp]\n",
       "3                     つぼみがついてましたがちいさくてくさってましたもうかいません  ...     [つぼみ, つい, ちいさく, くさっ, もう, かい, ませ]\n",
       "5   ♪  ─  ─  ─ o （ ≧∇≦ ） o ─  ─  ─  ─  ♪  ♪  ─  ─...  ...                               [o, o]\n",
       "\n",
       "[5 rows x 5 columns]"
      ]
     },
     "metadata": {
      "tags": []
     },
     "execution_count": 5
    }
   ]
  },
  {
   "cell_type": "code",
   "metadata": {
    "id": "EkO6NgBwL5BB"
   },
   "source": [
    "sm = pd.Series(Counter(chain.from_iterable(df['tokmecab'])))\n",
    "sj = pd.Series(Counter(chain.from_iterable(df['tokjanome'])))\n",
    "sn = pd.Series(Counter(chain.from_iterable(df['toknagisa'])))\n",
    "ss = pd.Series(Counter(chain.from_iterable(df['toksudachi'])))"
   ],
   "execution_count": 6,
   "outputs": []
  },
  {
   "cell_type": "code",
   "metadata": {
    "id": "ShDdI712NNwN"
   },
   "source": [
    "sm = pd.DataFrame(sm.sort_values(ascending=False))\n",
    "sj = pd.DataFrame(sj.sort_values(ascending=False))\n",
    "sn = pd.DataFrame(sn.sort_values(ascending=False))\n",
    "ss = pd.DataFrame(ss.sort_values(ascending=False))"
   ],
   "execution_count": 7,
   "outputs": []
  },
  {
   "cell_type": "code",
   "metadata": {
    "id": "WkaQ7JuvWWCE"
   },
   "source": [
    "sm.reset_index(level=0, inplace=True)\n",
    "sj.reset_index(level=0, inplace=True)\n",
    "sn.reset_index(level=0, inplace=True)\n",
    "ss.reset_index(level=0, inplace=True)\n"
   ],
   "execution_count": 8,
   "outputs": []
  },
  {
   "cell_type": "code",
   "metadata": {
    "id": "RyT1xQwRWVx-"
   },
   "source": [
    "cols = ['tokens', 'freq']"
   ],
   "execution_count": 9,
   "outputs": []
  },
  {
   "cell_type": "code",
   "metadata": {
    "id": "x6NwG4yaep0t"
   },
   "source": [
    "sm.columns = cols\n",
    "sj.columns = cols\n",
    "sn.columns = cols\n",
    "ss.columns = cols"
   ],
   "execution_count": 10,
   "outputs": []
  },
  {
   "cell_type": "code",
   "metadata": {
    "colab": {
     "base_uri": "https://localhost:8080/"
    },
    "id": "n0zoO-fTfZ9w",
    "outputId": "324aa2bc-6782-4fc2-af28-5a18fd62b6d9"
   },
   "source": [
    "print(sm.shape)\n",
    "print(sj.shape)\n",
    "print(sn.shape)\n",
    "print(ss.shape)"
   ],
   "execution_count": 12,
   "outputs": [
    {
     "output_type": "stream",
     "text": [
      "(124299, 2)\n",
      "(124922, 2)\n",
      "(170612, 2)\n",
      "(98337, 2)\n"
     ],
     "name": "stdout"
    }
   ]
  }
 ]
}